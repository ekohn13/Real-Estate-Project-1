{
 "cells": [
  {
   "cell_type": "code",
   "execution_count": 1,
   "metadata": {},
   "outputs": [],
   "source": [
    "import pandas as pd\n",
    "import numpy as np\n",
    "import matplotlib.pyplot as plt\n",
    "from matplotlib import axes\n",
    "from sklearn.preprocessing import minmax_scale\n",
    "from datetime import datetime,date"
   ]
  },
  {
   "cell_type": "code",
   "execution_count": 2,
   "metadata": {},
   "outputs": [],
   "source": [
    "df=pd.read_csv('/Users/edwardkohn/Desktop/Project1/zillowciti.csv',encoding=\"ISO-8859-1\")\n",
    "df_30_yr = pd.read_csv('/Users/edwardkohn/Desktop/Project1/MORTGAGE30US.csv')\n"
   ]
  },
  {
   "cell_type": "code",
   "execution_count": 3,
   "metadata": {},
   "outputs": [],
   "source": [
    "df_30_yr['DATE']=pd.to_datetime(df_30_yr['DATE'])\n",
    "df_30_yr['year']=df_30_yr['DATE'].apply(lambda x:x.year)"
   ]
  },
  {
   "cell_type": "code",
   "execution_count": 4,
   "metadata": {},
   "outputs": [],
   "source": [
    "df_30_yr['month']=df_30_yr['DATE'].apply(lambda x:x.month)"
   ]
  },
  {
   "cell_type": "code",
   "execution_count": 5,
   "metadata": {},
   "outputs": [
    {
     "data": {
      "text/html": [
       "<div>\n",
       "<style scoped>\n",
       "    .dataframe tbody tr th:only-of-type {\n",
       "        vertical-align: middle;\n",
       "    }\n",
       "\n",
       "    .dataframe tbody tr th {\n",
       "        vertical-align: top;\n",
       "    }\n",
       "\n",
       "    .dataframe thead th {\n",
       "        text-align: right;\n",
       "    }\n",
       "</style>\n",
       "<table border=\"1\" class=\"dataframe\">\n",
       "  <thead>\n",
       "    <tr style=\"text-align: right;\">\n",
       "      <th></th>\n",
       "      <th>year</th>\n",
       "      <th>month</th>\n",
       "      <th>MORTGAGE30US</th>\n",
       "    </tr>\n",
       "  </thead>\n",
       "  <tbody>\n",
       "    <tr>\n",
       "      <th>0</th>\n",
       "      <td>2014</td>\n",
       "      <td>11</td>\n",
       "      <td>3.990</td>\n",
       "    </tr>\n",
       "    <tr>\n",
       "      <th>1</th>\n",
       "      <td>2014</td>\n",
       "      <td>12</td>\n",
       "      <td>3.864</td>\n",
       "    </tr>\n",
       "    <tr>\n",
       "      <th>2</th>\n",
       "      <td>2015</td>\n",
       "      <td>1</td>\n",
       "      <td>3.670</td>\n",
       "    </tr>\n",
       "    <tr>\n",
       "      <th>3</th>\n",
       "      <td>2015</td>\n",
       "      <td>2</td>\n",
       "      <td>3.710</td>\n",
       "    </tr>\n",
       "    <tr>\n",
       "      <th>4</th>\n",
       "      <td>2015</td>\n",
       "      <td>3</td>\n",
       "      <td>3.770</td>\n",
       "    </tr>\n",
       "  </tbody>\n",
       "</table>\n",
       "</div>"
      ],
      "text/plain": [
       "   year  month  MORTGAGE30US\n",
       "0  2014     11         3.990\n",
       "1  2014     12         3.864\n",
       "2  2015      1         3.670\n",
       "3  2015      2         3.710\n",
       "4  2015      3         3.770"
      ]
     },
     "execution_count": 5,
     "metadata": {},
     "output_type": "execute_result"
    }
   ],
   "source": [
    "newdf=df_30_yr.groupby(['year','month'],as_index=False)['MORTGAGE30US'].mean()\n",
    "final_new_df=newdf.drop([59,60])\n",
    "final_new_df.head()\n"
   ]
  },
  {
   "cell_type": "markdown",
   "metadata": {},
   "source": [
    "datetime.date(year,month,day)\n",
    "datetime.data(2019,12,21)"
   ]
  },
  {
   "cell_type": "code",
   "execution_count": 6,
   "metadata": {},
   "outputs": [],
   "source": [
    "l=[]\n",
    "for _,row in final_new_df.iterrows():\n",
    "    l.append(date(int(row[0]),int(row[1]),1))\n",
    "final_new_df['date']=l\n"
   ]
  },
  {
   "cell_type": "code",
   "execution_count": 7,
   "metadata": {},
   "outputs": [
    {
     "data": {
      "text/html": [
       "<div>\n",
       "<style scoped>\n",
       "    .dataframe tbody tr th:only-of-type {\n",
       "        vertical-align: middle;\n",
       "    }\n",
       "\n",
       "    .dataframe tbody tr th {\n",
       "        vertical-align: top;\n",
       "    }\n",
       "\n",
       "    .dataframe thead th {\n",
       "        text-align: right;\n",
       "    }\n",
       "</style>\n",
       "<table border=\"1\" class=\"dataframe\">\n",
       "  <thead>\n",
       "    <tr style=\"text-align: right;\">\n",
       "      <th></th>\n",
       "      <th>year</th>\n",
       "      <th>month</th>\n",
       "      <th>MORTGAGE30US</th>\n",
       "      <th>date</th>\n",
       "    </tr>\n",
       "    <tr>\n",
       "      <th>date</th>\n",
       "      <th></th>\n",
       "      <th></th>\n",
       "      <th></th>\n",
       "      <th></th>\n",
       "    </tr>\n",
       "  </thead>\n",
       "  <tbody>\n",
       "    <tr>\n",
       "      <th>2014-11-01</th>\n",
       "      <td>2014</td>\n",
       "      <td>11</td>\n",
       "      <td>3.990</td>\n",
       "      <td>2014-11-01</td>\n",
       "    </tr>\n",
       "    <tr>\n",
       "      <th>2014-12-01</th>\n",
       "      <td>2014</td>\n",
       "      <td>12</td>\n",
       "      <td>3.864</td>\n",
       "      <td>2014-12-01</td>\n",
       "    </tr>\n",
       "    <tr>\n",
       "      <th>2015-01-01</th>\n",
       "      <td>2015</td>\n",
       "      <td>1</td>\n",
       "      <td>3.670</td>\n",
       "      <td>2015-01-01</td>\n",
       "    </tr>\n",
       "    <tr>\n",
       "      <th>2015-02-01</th>\n",
       "      <td>2015</td>\n",
       "      <td>2</td>\n",
       "      <td>3.710</td>\n",
       "      <td>2015-02-01</td>\n",
       "    </tr>\n",
       "    <tr>\n",
       "      <th>2015-03-01</th>\n",
       "      <td>2015</td>\n",
       "      <td>3</td>\n",
       "      <td>3.770</td>\n",
       "      <td>2015-03-01</td>\n",
       "    </tr>\n",
       "  </tbody>\n",
       "</table>\n",
       "</div>"
      ],
      "text/plain": [
       "            year  month  MORTGAGE30US        date\n",
       "date                                             \n",
       "2014-11-01  2014     11         3.990  2014-11-01\n",
       "2014-12-01  2014     12         3.864  2014-12-01\n",
       "2015-01-01  2015      1         3.670  2015-01-01\n",
       "2015-02-01  2015      2         3.710  2015-02-01\n",
       "2015-03-01  2015      3         3.770  2015-03-01"
      ]
     },
     "execution_count": 7,
     "metadata": {},
     "output_type": "execute_result"
    }
   ],
   "source": [
    "final_new_df.set_index(final_new_df['date']).head()"
   ]
  },
  {
   "cell_type": "code",
   "execution_count": 8,
   "metadata": {},
   "outputs": [],
   "source": [
    "dates_tobe_used_in_df = df.iloc[:,-59:].columns\n"
   ]
  },
  {
   "cell_type": "code",
   "execution_count": 9,
   "metadata": {},
   "outputs": [],
   "source": [
    "miami_dade_df = df.loc[df['CountyName']=='Miami-Dade County',:]\n",
    "df_1 = miami_dade_df.iloc[:,-59:]\n",
    "df_2 = miami_dade_df[['CountyName','State']]\n",
    "working_df_mdc = pd.concat([df_2,df_1],axis=1)\n",
    "working_df_mdc.reset_index(drop = True,inplace=True) \n",
    "working_df_mdc\n",
    "\n",
    "means_per_year_mdc=round(df_1.mean(),2)\n",
    "\n"
   ]
  },
  {
   "cell_type": "code",
   "execution_count": 10,
   "metadata": {},
   "outputs": [
    {
     "data": {
      "text/html": [
       "<div>\n",
       "<style scoped>\n",
       "    .dataframe tbody tr th:only-of-type {\n",
       "        vertical-align: middle;\n",
       "    }\n",
       "\n",
       "    .dataframe tbody tr th {\n",
       "        vertical-align: top;\n",
       "    }\n",
       "\n",
       "    .dataframe thead th {\n",
       "        text-align: right;\n",
       "    }\n",
       "</style>\n",
       "<table border=\"1\" class=\"dataframe\">\n",
       "  <thead>\n",
       "    <tr style=\"text-align: right;\">\n",
       "      <th></th>\n",
       "      <th>dates</th>\n",
       "      <th>home_avg_prices</th>\n",
       "    </tr>\n",
       "  </thead>\n",
       "  <tbody>\n",
       "    <tr>\n",
       "      <th>2014-11</th>\n",
       "      <td>2014-11</td>\n",
       "      <td>407660.00</td>\n",
       "    </tr>\n",
       "    <tr>\n",
       "      <th>2014-12</th>\n",
       "      <td>2014-12</td>\n",
       "      <td>410416.67</td>\n",
       "    </tr>\n",
       "    <tr>\n",
       "      <th>2015-01</th>\n",
       "      <td>2015-01</td>\n",
       "      <td>412780.00</td>\n",
       "    </tr>\n",
       "    <tr>\n",
       "      <th>2015-02</th>\n",
       "      <td>2015-02</td>\n",
       "      <td>415305.00</td>\n",
       "    </tr>\n",
       "    <tr>\n",
       "      <th>2015-03</th>\n",
       "      <td>2015-03</td>\n",
       "      <td>418966.67</td>\n",
       "    </tr>\n",
       "  </tbody>\n",
       "</table>\n",
       "</div>"
      ],
      "text/plain": [
       "           dates  home_avg_prices\n",
       "2014-11  2014-11        407660.00\n",
       "2014-12  2014-12        410416.67\n",
       "2015-01  2015-01        412780.00\n",
       "2015-02  2015-02        415305.00\n",
       "2015-03  2015-03        418966.67"
      ]
     },
     "execution_count": 10,
     "metadata": {},
     "output_type": "execute_result"
    }
   ],
   "source": [
    "dict_zillow_home_prices={'dates':dates_tobe_used_in_df,'home_avg_prices':means_per_year_mdc}\n",
    "zillow_home_prices_df=pd.DataFrame(dict_zillow_home_prices)\n",
    "zillow_home_prices_df.head()\n"
   ]
  },
  {
   "cell_type": "code",
   "execution_count": 11,
   "metadata": {},
   "outputs": [],
   "source": [
    "zillow_home_prices_df.reset_index(inplace=True,drop=True)"
   ]
  },
  {
   "cell_type": "code",
   "execution_count": 12,
   "metadata": {},
   "outputs": [
    {
     "data": {
      "text/html": [
       "<div>\n",
       "<style scoped>\n",
       "    .dataframe tbody tr th:only-of-type {\n",
       "        vertical-align: middle;\n",
       "    }\n",
       "\n",
       "    .dataframe tbody tr th {\n",
       "        vertical-align: top;\n",
       "    }\n",
       "\n",
       "    .dataframe thead th {\n",
       "        text-align: right;\n",
       "    }\n",
       "</style>\n",
       "<table border=\"1\" class=\"dataframe\">\n",
       "  <thead>\n",
       "    <tr style=\"text-align: right;\">\n",
       "      <th></th>\n",
       "      <th>year</th>\n",
       "      <th>month</th>\n",
       "      <th>MORTGAGE30US</th>\n",
       "      <th>date</th>\n",
       "    </tr>\n",
       "  </thead>\n",
       "  <tbody>\n",
       "    <tr>\n",
       "      <th>0</th>\n",
       "      <td>2014</td>\n",
       "      <td>11</td>\n",
       "      <td>3.990</td>\n",
       "      <td>2014-11-01</td>\n",
       "    </tr>\n",
       "    <tr>\n",
       "      <th>1</th>\n",
       "      <td>2014</td>\n",
       "      <td>12</td>\n",
       "      <td>3.864</td>\n",
       "      <td>2014-12-01</td>\n",
       "    </tr>\n",
       "    <tr>\n",
       "      <th>2</th>\n",
       "      <td>2015</td>\n",
       "      <td>1</td>\n",
       "      <td>3.670</td>\n",
       "      <td>2015-01-01</td>\n",
       "    </tr>\n",
       "    <tr>\n",
       "      <th>3</th>\n",
       "      <td>2015</td>\n",
       "      <td>2</td>\n",
       "      <td>3.710</td>\n",
       "      <td>2015-02-01</td>\n",
       "    </tr>\n",
       "    <tr>\n",
       "      <th>4</th>\n",
       "      <td>2015</td>\n",
       "      <td>3</td>\n",
       "      <td>3.770</td>\n",
       "      <td>2015-03-01</td>\n",
       "    </tr>\n",
       "  </tbody>\n",
       "</table>\n",
       "</div>"
      ],
      "text/plain": [
       "   year  month  MORTGAGE30US        date\n",
       "0  2014     11         3.990  2014-11-01\n",
       "1  2014     12         3.864  2014-12-01\n",
       "2  2015      1         3.670  2015-01-01\n",
       "3  2015      2         3.710  2015-02-01\n",
       "4  2015      3         3.770  2015-03-01"
      ]
     },
     "execution_count": 12,
     "metadata": {},
     "output_type": "execute_result"
    }
   ],
   "source": [
    "final_new_df.head()"
   ]
  },
  {
   "cell_type": "code",
   "execution_count": 13,
   "metadata": {},
   "outputs": [],
   "source": [
    "l=[]\n",
    "for _,row in zillow_home_prices_df.iterrows():\n",
    "    l.append(date(int(str(row['dates'][:4])),int(str(row['dates'][5:])),1))\n",
    "zillow_home_prices_df['date']=l"
   ]
  },
  {
   "cell_type": "code",
   "execution_count": 14,
   "metadata": {},
   "outputs": [],
   "source": [
    "newdf1=zillow_home_prices_df.set_index('date')[['home_avg_prices']]\n",
    "newdf2=round(final_new_df.set_index('date')[['MORTGAGE30US']],2)\n"
   ]
  },
  {
   "cell_type": "code",
   "execution_count": 15,
   "metadata": {},
   "outputs": [],
   "source": [
    "merge_table = pd.merge(newdf1, newdf2, on=\"date\")\n",
    "\n",
    "merge_table[\"att_mort\"] = merge_table['MORTGAGE30US'] * 100000\n",
    "correlation = round(merge_table.home_avg_prices.corr(merge_table.MORTGAGE30US),2)\n"
   ]
  },
  {
   "cell_type": "code",
   "execution_count": 17,
   "metadata": {
    "scrolled": true
   },
   "outputs": [
    {
     "data": {
      "image/png": "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\n",
      "text/plain": [
       "<Figure size 648x252 with 1 Axes>"
      ]
     },
     "metadata": {
      "needs_background": "light"
     },
     "output_type": "display_data"
    }
   ],
   "source": [
    "plt.figure(figsize=(9,3.5))\n",
    "hom_handle,=plt.plot(merge_table.index,merge_table['home_avg_prices'],label='MDC Avg Home Price')\n",
    "rate_handle,=plt.plot(merge_table.index,merge_table['att_mort'],label ='30 Year Mtg Rate')\n",
    "plt.legend(loc=\"best\")\n",
    "plt.ylabel('Average Price($)')\n",
    "plt.xlabel('Years')\n",
    "plt.title('Miami-Dade County Home Prices Vs. 30yr.Mtg Rate(Past 5 Years)')\n",
    "plt.tight_layout()\n",
    "plt.figtext(.15,.70,'Correlation: '+str(correlation),color='g',fontstyle='italic')\n",
    "plt.savefig('MDCvs30mtgrate.png')\n",
    "plt.grid()\n",
    "plt.show()"
   ]
  }
 ],
 "metadata": {
  "kernelspec": {
   "display_name": "Python 3",
   "language": "python",
   "name": "python3"
  },
  "language_info": {
   "codemirror_mode": {
    "name": "ipython",
    "version": 3
   },
   "file_extension": ".py",
   "mimetype": "text/x-python",
   "name": "python",
   "nbconvert_exporter": "python",
   "pygments_lexer": "ipython3",
   "version": "3.7.3"
  }
 },
 "nbformat": 4,
 "nbformat_minor": 2
}
{
 "cells": [
  {
   "cell_type": "code",
   "execution_count": 1,
   "metadata": {},
   "outputs": [],
   "source": [
    "import pandas as pd\n",
    "import numpy as np\n",
    "import matplotlib.pyplot as plt\n",
    "from datetime import datetime,date"
   ]
  },
  {
   "cell_type": "code",
   "execution_count": 2,
   "metadata": {},
   "outputs": [
    {
     "data": {
      "text/html": [
       "<div>\n",
       "<style scoped>\n",
       "    .dataframe tbody tr th:only-of-type {\n",
       "        vertical-align: middle;\n",
       "    }\n",
       "\n",
       "    .dataframe tbody tr th {\n",
       "        vertical-align: top;\n",
       "    }\n",
       "\n",
       "    .dataframe thead th {\n",
       "        text-align: right;\n",
       "    }\n",
       "</style>\n",
       "<table border=\"1\" class=\"dataframe\">\n",
       "  <thead>\n",
       "    <tr style=\"text-align: right;\">\n",
       "      <th></th>\n",
       "      <th>Geography</th>\n",
       "      <th>City</th>\n",
       "      <th>State</th>\n",
       "      <th>Population 2010</th>\n",
       "      <th>Population 2011</th>\n",
       "      <th>Population 2012</th>\n",
       "      <th>Population 2013</th>\n",
       "      <th>Population 2014</th>\n",
       "      <th>Population 2015</th>\n",
       "      <th>Population 2016</th>\n",
       "      <th>Population 2017</th>\n",
       "      <th>Population 2018</th>\n",
       "    </tr>\n",
       "  </thead>\n",
       "  <tbody>\n",
       "    <tr>\n",
       "      <th>0</th>\n",
       "      <td>United States</td>\n",
       "      <td>New York city</td>\n",
       "      <td>New York</td>\n",
       "      <td>8,190,355</td>\n",
       "      <td>8,272,963</td>\n",
       "      <td>8,348,032</td>\n",
       "      <td>8,398,739</td>\n",
       "      <td>8,437,387</td>\n",
       "      <td>8,468,181</td>\n",
       "      <td>8,475,976</td>\n",
       "      <td>8,438,271</td>\n",
       "      <td>8,398,748</td>\n",
       "    </tr>\n",
       "    <tr>\n",
       "      <th>1</th>\n",
       "      <td>United States</td>\n",
       "      <td>Los Angeles city</td>\n",
       "      <td>California</td>\n",
       "      <td>3,795,370</td>\n",
       "      <td>3,821,136</td>\n",
       "      <td>3,852,532</td>\n",
       "      <td>3,883,916</td>\n",
       "      <td>3,913,260</td>\n",
       "      <td>3,943,215</td>\n",
       "      <td>3,969,262</td>\n",
       "      <td>3,982,002</td>\n",
       "      <td>3,990,456</td>\n",
       "    </tr>\n",
       "    <tr>\n",
       "      <th>2</th>\n",
       "      <td>United States</td>\n",
       "      <td>Chicago city</td>\n",
       "      <td>Illinois</td>\n",
       "      <td>2,697,529</td>\n",
       "      <td>2,708,209</td>\n",
       "      <td>2,719,735</td>\n",
       "      <td>2,726,772</td>\n",
       "      <td>2,728,524</td>\n",
       "      <td>2,726,215</td>\n",
       "      <td>2,718,946</td>\n",
       "      <td>2,713,067</td>\n",
       "      <td>2,705,994</td>\n",
       "    </tr>\n",
       "    <tr>\n",
       "      <th>3</th>\n",
       "      <td>United States</td>\n",
       "      <td>Houston city</td>\n",
       "      <td>Texas</td>\n",
       "      <td>2,098,446</td>\n",
       "      <td>2,124,143</td>\n",
       "      <td>2,160,086</td>\n",
       "      <td>2,198,280</td>\n",
       "      <td>2,240,982</td>\n",
       "      <td>2,286,630</td>\n",
       "      <td>2,309,752</td>\n",
       "      <td>2,317,445</td>\n",
       "      <td>2,325,502</td>\n",
       "    </tr>\n",
       "    <tr>\n",
       "      <th>4</th>\n",
       "      <td>United States</td>\n",
       "      <td>Phoenix city</td>\n",
       "      <td>Arizona</td>\n",
       "      <td>1,449,295</td>\n",
       "      <td>1,470,052</td>\n",
       "      <td>1,499,839</td>\n",
       "      <td>1,527,336</td>\n",
       "      <td>1,556,552</td>\n",
       "      <td>1,584,927</td>\n",
       "      <td>1,613,581</td>\n",
       "      <td>1,634,984</td>\n",
       "      <td>1,660,272</td>\n",
       "    </tr>\n",
       "  </tbody>\n",
       "</table>\n",
       "</div>"
      ],
      "text/plain": [
       "       Geography               City        State Population 2010  \\\n",
       "0  United States      New York city     New York       8,190,355   \n",
       "1  United States   Los Angeles city   California       3,795,370   \n",
       "2  United States       Chicago city     Illinois       2,697,529   \n",
       "3  United States       Houston city        Texas       2,098,446   \n",
       "4  United States       Phoenix city      Arizona       1,449,295   \n",
       "\n",
       "  Population 2011 Population 2012 Population 2013 Population 2014  \\\n",
       "0       8,272,963       8,348,032       8,398,739       8,437,387   \n",
       "1       3,821,136       3,852,532       3,883,916       3,913,260   \n",
       "2       2,708,209       2,719,735       2,726,772       2,728,524   \n",
       "3       2,124,143       2,160,086       2,198,280       2,240,982   \n",
       "4       1,470,052       1,499,839       1,527,336       1,556,552   \n",
       "\n",
       "  Population 2015 Population 2016 Population 2017 Population 2018  \n",
       "0       8,468,181       8,475,976       8,438,271       8,398,748  \n",
       "1       3,943,215       3,969,262       3,982,002       3,990,456  \n",
       "2       2,726,215       2,718,946       2,713,067       2,705,994  \n",
       "3       2,286,630       2,309,752       2,317,445       2,325,502  \n",
       "4       1,584,927       1,613,581       1,634,984       1,660,272  "
      ]
     },
     "execution_count": 2,
     "metadata": {},
     "output_type": "execute_result"
    }
   ],
   "source": [
    "df=pd.read_csv('/Users/edwardkohn/Desktop/PEP_2018_PEPANNRSIP.US12A_with_ann.csv',encoding=\"ISO-8859-1\")\n",
    "df.head()"
   ]
  },
  {
   "cell_type": "code",
   "execution_count": 3,
   "metadata": {},
   "outputs": [],
   "source": [
    "for col in [i for i in df.columns if i not in ['Geography','City','State']]:\n",
    "    s=df[col].apply(lambda x:x.replace(',',''))\n",
    "    s=s.astype(float)\n",
    "    df[col]=s\n"
   ]
  },
  {
   "cell_type": "code",
   "execution_count": 4,
   "metadata": {},
   "outputs": [],
   "source": [
    "yy=df.loc[df['State']== \" Florida\",:]\n",
    "yy.reset_index(inplace=True,drop=True)\n"
   ]
  },
  {
   "cell_type": "code",
   "execution_count": 95,
   "metadata": {},
   "outputs": [],
   "source": [
    "y=yy.columns[3:]\n"
   ]
  },
  {
   "cell_type": "code",
   "execution_count": 101,
   "metadata": {},
   "outputs": [],
   "source": [
    "tot = []\n",
    "for row in yy.iloc[:,3:]:\n",
    "    s = yy[row].sum()\n",
    "    tot.append(s)\n"
   ]
  },
  {
   "cell_type": "code",
   "execution_count": 91,
   "metadata": {},
   "outputs": [
    {
     "data": {
      "image/png": "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...
